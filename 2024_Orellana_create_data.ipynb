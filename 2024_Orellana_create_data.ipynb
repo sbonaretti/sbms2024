{
 "cells": [
  {
   "cell_type": "markdown",
   "id": "c27be64e-722e-482f-85ab-046f210b05d1",
   "metadata": {},
   "source": [
    "## Provide numbers whose average and standard error is given\n",
    "\n",
    "By [Serena Bonaretti](https://sbonaretti.github.io/)  \n",
    "Developed with the support of ChatGPT4o  \n",
    "Content license: CC0    \n",
    "Code license: Unlicense \n",
    "\n",
    "---\n",
    "\n",
    "- The aim of this notebook is to **create a list of potential observations** given their **average** and **standard error**\n",
    "- The use is to recreate barplots with errorbars from publications  \n",
    "\n",
    "---\n",
    "\n"
   ]
  },
  {
   "cell_type": "markdown",
   "id": "df0b09f8-eb6e-4080-bdca-a372f454c36e",
   "metadata": {},
   "source": [
    "**1. Problem formulation** \n",
    "\n",
    "Task: Provide 6 numbers whose average is 18 and the standard error is 20\n",
    "\n",
    "- The mean is $\\mu$= 18\n",
    "- The standard error (SE) is $SE=\\frac{\\sigma}{\\sqrt{n}}$, where:\n",
    "  - $\\sigma$ is the standard deviation (unknown)\n",
    "  - $n$ is te number of observations (that is, 6)"
   ]
  },
  {
   "cell_type": "markdown",
   "id": "300eb41d-09d6-4213-b1e3-1550b8ef1b78",
   "metadata": {},
   "source": [
    "**2. Calculate the standard deviation**\n",
    "\n",
    "- Formula: $SE=\\frac{\\sigma}{\\sqrt{n}}$\n",
    "- Rearranging for $\\sigma$: $\\sigma = SE \\times \\sqrt{n} =  20 \\times \\sqrt{6} \\approx 48.99$\n"
   ]
  },
  {
   "cell_type": "markdown",
   "id": "5bf4192b-2266-42ea-8c0f-4f0e273ef8df",
   "metadata": {},
   "source": [
    "**3. Compute the numbers** \n",
    "\n",
    "- One way to do this is to start with the mean and then distribute the numbers around this mean in a way that results in the required standard error (SE). Because the standard error is a metric derived from the standard deviation, in the calculations we directly use the standard deviation\n",
    "\n",
    "- Numbers to calculate:   \n",
    "$x_1 = \\mu + 2a = 18 + 2a$   \n",
    "$x_2 = \\mu + a = 18 + a$   \n",
    "$x_3 = \\mu = 18$   \n",
    "$x_4 = \\mu = 18$   \n",
    "$x_5 = \\mu - a = 18 - a$   \n",
    "$x_6 = \\mu - 2a = 18 - 2a$   \n",
    "$a$ is the distance to the mean  \n",
    "*Note*: $x_3$ and $x_4$ are the same number\n",
    "\n",
    "- Standard deviation formula:   \n",
    "$\\sigma = \\sqrt{\\frac{1}{n} \\sum_{i=1}^{n} (x_i - \\mu)^2}$\n",
    "- Squaring the formula:   \n",
    "$\\sigma^{2} = \\frac{1}{n} \\sum_{i=1}^{n} (x_i - \\mu)^2$\n",
    "- Inserting the numbers in the squared formula:    \n",
    "$\\sigma^2 = \\frac{(x_1 - 18)^2 + (x_2 - 18)^2 + (x_3 - 18)^2 + (x_4 - 18)^2 + (x_5 - 18)^2 + (x_6 - 18)^2}{6}$  \n",
    "$\\sigma^2 = \\frac{(18 + 2a - 18)^2 + (18 + a - 18)^2 + (18 - 18)^2 + (18 - 18)^2 + (18 - a - 18)^2 + (18 - 2a - 18)^2}{6}$  \n",
    "$48.99^2 = \\frac{(2a)^2 + (a)^2 + 0 + 0 + (a)^2 + (2a)^2}{6}$  \n",
    "$48.99^2 = \\frac{4a^2 + a^2 + a^2 + 4a^2}{6}$  \n",
    "$48.99^2 = \\frac{10a^2}{6}$  (1)  \n",
    "$48.99^2 = \\frac{5a^2}{3}$    \n",
    "$a^2 = \\frac{48.99^2 \\times 3}{5}$  \n",
    "$a = \\sqrt{\\frac{48.99^2 \\times 3}{5}} \\approx \\sqrt{1436.94} \\approx 37.89$  \n",
    "*Note*: for the computational implementation below, we need to calculate $a$:  \n",
    "From row (1) (four rows above):  \n",
    "$a^2 = \\frac{\\sigma^2 \\times n}{10}$, thus $a = \\sqrt{\\frac{\\sigma^2 \\times n}{10}}$\n",
    "\n",
    "\n",
    "- Calculating the numbers:  \n",
    "$x_1 = \\mu + 2a = 18 + 2a = 18 + 75.78 = 93.78$   \n",
    "$x_2 = \\mu + a = 18 + a = 18 + 37.89 = 55.89$   \n",
    "$x_3 = \\mu = 18$   \n",
    "$x_4 = \\mu = 18$   \n",
    "$x_5 = \\mu - a = 18 - a = 18 - 37.89 = -19.89$   \n",
    "$x_6 = \\mu - 2a = 18 - 2a = 18 - 75.78 = -57.78$  "
   ]
  },
  {
   "cell_type": "markdown",
   "id": "6b9a94e1-6665-4a18-94d7-ffd85a75173f",
   "metadata": {},
   "source": [
    "**4. Verifying the results**\n",
    "- Inserting numbers in the mean formula:  \n",
    "  $\\frac{x_1 + x_2 + x_3 + x_4 + x_5 + x_6}{6} = 18$  \n",
    "  $\\frac{93.78+55.89+18+18+(−19.89)+(−57.78)}{6} = \\frac{108}{6} = 18$\n",
    "- Inserting numbers in the standard deviation formula:  \n",
    "  $\\sigma = \\sqrt{\\frac{(93.78 - 18)^2 + (55.89 - 18)^2 + (18 - 18)^2 + (18 - 18)^2 + (-19.89 - 18)^2 + (-57.78 - 18)^2}{6}} \\approx 48.91$\n",
    "- Inserting numbers in the standard error formula:  \n",
    "  $SE=\\frac{\\sigma}{\\sqrt{n}} = \\frac{48.91}{\\sqrt{6}} = 19.98$ "
   ]
  },
  {
   "cell_type": "markdown",
   "id": "15d450f2-7701-4e25-ae19-e77fd76db716",
   "metadata": {},
   "source": [
    "---\n",
    "## Implementation"
   ]
  },
  {
   "cell_type": "code",
   "execution_count": 1,
   "id": "a1f9ba6c-fb3c-4e41-8ddd-3e864a48c815",
   "metadata": {},
   "outputs": [],
   "source": [
    "import numpy as np\n",
    "from scipy.stats import sem\n",
    "import pandas as pd"
   ]
  },
  {
   "cell_type": "code",
   "execution_count": 2,
   "id": "0c118bc1-4825-4512-97ba-fb809ddbd6c8",
   "metadata": {},
   "outputs": [
    {
     "name": "stdout",
     "output_type": "stream",
     "text": [
      "Computed numbers:  [65.95, 46.97, 28, 28, 9.03, -9.95]\n",
      "Given mean: 28 | calculated mean:  28.0\n",
      "Given standard error: 10 | calculated standard error:  10.95\n"
     ]
    }
   ],
   "source": [
    "def compute_numbers(n, mean, SE):\n",
    "\n",
    "    # calculating the standard deviation\n",
    "    sigma = SE * np.sqrt(n)\n",
    "    \n",
    "    # calculating the value of a for a symmetrical distribution\n",
    "    a = np.sqrt((sigma**2 * n) / 10)\n",
    "    \n",
    "    # computing the six numbers\n",
    "    x1 = np.round(mean + 2 * a ,2)\n",
    "    x2 = np.round(mean + a, 2)\n",
    "    x3 = np.round(mean, 2)\n",
    "    x4 = np.round(mean, 2)\n",
    "    x5 = np.round(mean - a, 2)\n",
    "    x6 = np.round(mean - 2 * a, 2)\n",
    "    \n",
    "    # creating the list of numbers to return\n",
    "    numbers = [x1, x2, x3, x4, x5, x6]\n",
    "\n",
    "    # printing for check\n",
    "    print(\"Computed numbers: \", numbers)\n",
    "    print(\"Given mean:\", mean, \"| calculated mean: \", np.round(np.mean(numbers), 2))\n",
    "    print(\"Given standard error:\", SE, \"| calculated standard error: \",  np.round(sem(numbers), 2))\n",
    "\n",
    "    return numbers\n",
    "    \n",
    "numbers = compute_numbers(6, 28, 10)"
   ]
  },
  {
   "cell_type": "code",
   "execution_count": 3,
   "id": "9b026582-7f7e-42a9-a48e-cdf8ab745aea",
   "metadata": {},
   "outputs": [],
   "source": [
    "graph_8_values = {\"ant_lat\" : [6, 18, 18],\n",
    "                  \"ant_med\" : [6, 27, 10],\n",
    "                  \"mid_ant_lat\" : [6, 29, 25],\n",
    "                  \"mid_ant_med\" : [6, 25, 12],\n",
    "                  \"mid_pos_lat\" : [6, 14, 8],\n",
    "                  \"mid_pos_med\" : [6, 13, 7],\n",
    "                  \"pos_lat\" : [6, 38, 55],\n",
    "                  \"pos_med\" : [6, 33, 2]}"
   ]
  },
  {
   "cell_type": "code",
   "execution_count": 4,
   "id": "775eb00f-7fa2-4481-b566-3222a95f772a",
   "metadata": {},
   "outputs": [
    {
     "name": "stdout",
     "output_type": "stream",
     "text": [
      "Computed numbers:  [86.31, 52.15, 18, 18, -16.15, -50.31]\n",
      "Given mean: 18 | calculated mean:  18.0\n",
      "Given standard error: 18 | calculated standard error:  19.72\n",
      "Computed numbers:  [64.95, 45.97, 27, 27, 8.03, -10.95]\n",
      "Given mean: 27 | calculated mean:  27.0\n",
      "Given standard error: 10 | calculated standard error:  10.95\n",
      "Computed numbers:  [123.87, 76.43, 29, 29, -18.43, -65.87]\n",
      "Given mean: 29 | calculated mean:  29.0\n",
      "Given standard error: 25 | calculated standard error:  27.39\n",
      "Computed numbers:  [70.54, 47.77, 25, 25, 2.23, -20.54]\n",
      "Given mean: 25 | calculated mean:  25.0\n",
      "Given standard error: 12 | calculated standard error:  13.15\n",
      "Computed numbers:  [44.36, 29.18, 14, 14, -1.18, -16.36]\n",
      "Given mean: 14 | calculated mean:  14.0\n",
      "Given standard error: 8 | calculated standard error:  8.76\n",
      "Computed numbers:  [39.56, 26.28, 13, 13, -0.28, -13.56]\n",
      "Given mean: 13 | calculated mean:  13.0\n",
      "Given standard error: 7 | calculated standard error:  7.67\n",
      "Computed numbers:  [246.71, 142.36, 38, 38, -66.36, -170.71]\n",
      "Given mean: 38 | calculated mean:  38.0\n",
      "Given standard error: 55 | calculated standard error:  60.25\n",
      "Computed numbers:  [40.59, 36.79, 33, 33, 29.21, 25.41]\n",
      "Given mean: 33 | calculated mean:  33.0\n",
      "Given standard error: 2 | calculated standard error:  2.19\n",
      "{'ant_lat': [86.31, 52.15, 18, 18, -16.15, -50.31], 'ant_med': [64.95, 45.97, 27, 27, 8.03, -10.95], 'mid_ant_lat': [123.87, 76.43, 29, 29, -18.43, -65.87], 'mid_ant_med': [70.54, 47.77, 25, 25, 2.23, -20.54], 'mid_pos_lat': [44.36, 29.18, 14, 14, -1.18, -16.36], 'mid_pos_med': [39.56, 26.28, 13, 13, -0.28, -13.56], 'pos_lat': [246.71, 142.36, 38, 38, -66.36, -170.71], 'pos_med': [40.59, 36.79, 33, 33, 29.21, 25.41]}\n"
     ]
    }
   ],
   "source": [
    "table_dict = {}\n",
    "for k,v in graph_8_values.items():\n",
    "    numbers = compute_numbers(v[0], v[1], v[2])\n",
    "    table_dict[k] = numbers\n",
    "print (table_dict)"
   ]
  },
  {
   "cell_type": "code",
   "execution_count": 5,
   "id": "02fbb1f8-d766-4811-84bc-78c041221aa0",
   "metadata": {},
   "outputs": [
    {
     "data": {
      "text/html": [
       "<div>\n",
       "<style scoped>\n",
       "    .dataframe tbody tr th:only-of-type {\n",
       "        vertical-align: middle;\n",
       "    }\n",
       "\n",
       "    .dataframe tbody tr th {\n",
       "        vertical-align: top;\n",
       "    }\n",
       "\n",
       "    .dataframe thead th {\n",
       "        text-align: right;\n",
       "    }\n",
       "</style>\n",
       "<table border=\"1\" class=\"dataframe\">\n",
       "  <thead>\n",
       "    <tr style=\"text-align: right;\">\n",
       "      <th></th>\n",
       "      <th>ant_lat</th>\n",
       "      <th>ant_med</th>\n",
       "      <th>mid_ant_lat</th>\n",
       "      <th>mid_ant_med</th>\n",
       "      <th>mid_pos_lat</th>\n",
       "      <th>mid_pos_med</th>\n",
       "      <th>pos_lat</th>\n",
       "      <th>pos_med</th>\n",
       "    </tr>\n",
       "  </thead>\n",
       "  <tbody>\n",
       "    <tr>\n",
       "      <th>0</th>\n",
       "      <td>86.31</td>\n",
       "      <td>64.95</td>\n",
       "      <td>123.87</td>\n",
       "      <td>70.54</td>\n",
       "      <td>44.36</td>\n",
       "      <td>39.56</td>\n",
       "      <td>246.71</td>\n",
       "      <td>40.59</td>\n",
       "    </tr>\n",
       "    <tr>\n",
       "      <th>1</th>\n",
       "      <td>52.15</td>\n",
       "      <td>45.97</td>\n",
       "      <td>76.43</td>\n",
       "      <td>47.77</td>\n",
       "      <td>29.18</td>\n",
       "      <td>26.28</td>\n",
       "      <td>142.36</td>\n",
       "      <td>36.79</td>\n",
       "    </tr>\n",
       "    <tr>\n",
       "      <th>2</th>\n",
       "      <td>18.00</td>\n",
       "      <td>27.00</td>\n",
       "      <td>29.00</td>\n",
       "      <td>25.00</td>\n",
       "      <td>14.00</td>\n",
       "      <td>13.00</td>\n",
       "      <td>38.00</td>\n",
       "      <td>33.00</td>\n",
       "    </tr>\n",
       "    <tr>\n",
       "      <th>3</th>\n",
       "      <td>18.00</td>\n",
       "      <td>27.00</td>\n",
       "      <td>29.00</td>\n",
       "      <td>25.00</td>\n",
       "      <td>14.00</td>\n",
       "      <td>13.00</td>\n",
       "      <td>38.00</td>\n",
       "      <td>33.00</td>\n",
       "    </tr>\n",
       "    <tr>\n",
       "      <th>4</th>\n",
       "      <td>-16.15</td>\n",
       "      <td>8.03</td>\n",
       "      <td>-18.43</td>\n",
       "      <td>2.23</td>\n",
       "      <td>-1.18</td>\n",
       "      <td>-0.28</td>\n",
       "      <td>-66.36</td>\n",
       "      <td>29.21</td>\n",
       "    </tr>\n",
       "    <tr>\n",
       "      <th>5</th>\n",
       "      <td>-50.31</td>\n",
       "      <td>-10.95</td>\n",
       "      <td>-65.87</td>\n",
       "      <td>-20.54</td>\n",
       "      <td>-16.36</td>\n",
       "      <td>-13.56</td>\n",
       "      <td>-170.71</td>\n",
       "      <td>25.41</td>\n",
       "    </tr>\n",
       "  </tbody>\n",
       "</table>\n",
       "</div>"
      ],
      "text/plain": [
       "   ant_lat  ant_med  mid_ant_lat  mid_ant_med  mid_pos_lat  mid_pos_med  \\\n",
       "0    86.31    64.95       123.87        70.54        44.36        39.56   \n",
       "1    52.15    45.97        76.43        47.77        29.18        26.28   \n",
       "2    18.00    27.00        29.00        25.00        14.00        13.00   \n",
       "3    18.00    27.00        29.00        25.00        14.00        13.00   \n",
       "4   -16.15     8.03       -18.43         2.23        -1.18        -0.28   \n",
       "5   -50.31   -10.95       -65.87       -20.54       -16.36       -13.56   \n",
       "\n",
       "   pos_lat  pos_med  \n",
       "0   246.71    40.59  \n",
       "1   142.36    36.79  \n",
       "2    38.00    33.00  \n",
       "3    38.00    33.00  \n",
       "4   -66.36    29.21  \n",
       "5  -170.71    25.41  "
      ]
     },
     "execution_count": 5,
     "metadata": {},
     "output_type": "execute_result"
    }
   ],
   "source": [
    "df = pd.DataFrame(table_dict)\n",
    "df"
   ]
  },
  {
   "cell_type": "code",
   "execution_count": 6,
   "id": "b98db5d0-3796-4a67-b52a-8ff05c8fc3a5",
   "metadata": {},
   "outputs": [],
   "source": [
    "df.to_csv(\"data_fig_8.csv\", index=False)"
   ]
  }
 ],
 "metadata": {
  "kernelspec": {
   "display_name": "Python 3 (ipykernel)",
   "language": "python",
   "name": "python3"
  },
  "language_info": {
   "codemirror_mode": {
    "name": "ipython",
    "version": 3
   },
   "file_extension": ".py",
   "mimetype": "text/x-python",
   "name": "python",
   "nbconvert_exporter": "python",
   "pygments_lexer": "ipython3",
   "version": "3.9.6"
  }
 },
 "nbformat": 4,
 "nbformat_minor": 5
}
