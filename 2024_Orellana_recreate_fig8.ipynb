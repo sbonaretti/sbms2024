{
 "cells": [
  {
   "cell_type": "markdown",
   "id": "19ae13d9-7bce-41fa-b8c9-bd99c997ac0e",
   "metadata": {},
   "source": [
    "## How to create a graph for publication in an open and reproducible way\n",
    "\n",
    "By [Serena Bonaretti](https://sbonaretti.github.io/)  \n",
    "Content under Creative Commons Attribution license CC-BY-NC-SA 4.0     \n",
    "Code under GNU-GPL v3 License \n",
    "\n",
    "---"
   ]
  },
  {
   "attachments": {},
   "cell_type": "markdown",
   "id": "604862bf-6401-4c55-91d6-ac96818ca2bc",
   "metadata": {},
   "source": [
    "- The task is to produce a figure similar to Fig. 8 in the paper:  \n",
    "  *Orellana et al. 2024. **Revealing the complexity of meniscus \n",
    "microvasculature through 3D visualization and analysis***\n",
    "https://doi.org/10.1038/s41598-024-61497-2\n",
    "\n",
    "- This notebook is also an example of how to create a **reproducible workflow** using Jupyter Notebook, Python, Zenodo, and GitHub.\n",
    "\n",
    "- These are the 3 steps that make this workflow reproducible:   \n",
    "  1. [Automatically downloading data from a repository](#download)  \n",
    "  2. [Automating data manipulation and plot creation](#manipulation)\n",
    "  3. [Printing dependences](#dependencies) "
   ]
  },
  {
   "cell_type": "markdown",
   "id": "6b5acdf2-afd8-454b-9f2a-a5527a81f308",
   "metadata": {},
   "source": [
    "--- \n",
    "Installing the Python packages that we will need:"
   ]
  },
  {
   "cell_type": "code",
   "execution_count": null,
   "id": "81446adf-f64b-401b-a3c1-6735fea2b880",
   "metadata": {},
   "outputs": [],
   "source": [
    "!pip3 install wget"
   ]
  },
  {
   "cell_type": "code",
   "execution_count": null,
   "id": "c8ad1f15-15f5-4137-b09a-2bab05d23266",
   "metadata": {
    "scrolled": true
   },
   "outputs": [],
   "source": [
    "!pip3 install watermark"
   ]
  },
  {
   "cell_type": "markdown",
   "id": "7e0865c4-acd7-4dbd-b340-95717850f5c9",
   "metadata": {},
   "source": [
    "--- \n",
    "- Importing the Python libraries that we will need below:"
   ]
  },
  {
   "cell_type": "code",
   "execution_count": null,
   "id": "beaf0f31-e2f5-4b10-a5a1-0eaee8515511",
   "metadata": {},
   "outputs": [],
   "source": [
    "import wget                     # to download from zenodo\n",
    "import pandas as pd             # to manipulate the table\n",
    "import numpy as np              # for some math\n",
    "import matplotlib.pyplot as plt # to plot "
   ]
  },
  {
   "attachments": {},
   "cell_type": "markdown",
   "id": "99a4b622-7c18-414f-8a7b-27c9ff7ccd9b",
   "metadata": {},
   "source": [
    "---\n",
    "<a name = \"download\"></a>\n",
    "## 1. Automatically downloading data from a repository\n",
    "\n",
    "- Input data should be in a repository that provides a **persistent digital object identifier (DOI)** so that data will be available in the future\n",
    "- It is *discouraged* to share data from **personal repositories** because links tend to get deleted, thus compromising the reproducibility of the workflow"
   ]
  },
  {
   "cell_type": "markdown",
   "id": "75ce49d0-4344-496c-84f7-bceec9dd762d",
   "metadata": {},
   "source": [
    "- The data that we will use in this notebook is in the file `2024_Orellana_data_fig_8.csv` at this Zenodo link: www.doi.org/10.5281/zenodo.11491110"
   ]
  },
  {
   "cell_type": "code",
   "execution_count": null,
   "id": "3bb5637e-8d4d-470e-bfb7-74b3aca8f91a",
   "metadata": {},
   "outputs": [],
   "source": [
    "# ---> complete the zenodo url with the last digits of the specific version of the dataset DOI\n",
    "zenodo_url = \"https://zenodo.org/record/      /files/\"  \n",
    "print (zenodo_url)"
   ]
  },
  {
   "cell_type": "code",
   "execution_count": null,
   "id": "b9a97d41-f44d-4d0a-8ab7-3fbd47df8a22",
   "metadata": {},
   "outputs": [],
   "source": [
    "# ---> enter the file name\n",
    "file_name  = \"\" \n",
    "print (file_name)"
   ]
  },
  {
   "cell_type": "code",
   "execution_count": null,
   "id": "18d075d0-3f8a-4b0d-91a9-f7293535c437",
   "metadata": {},
   "outputs": [],
   "source": [
    "# download using wget.download(repository, local)\n",
    "wget.download(zenodo_url + file_name, file_name) "
   ]
  },
  {
   "cell_type": "code",
   "execution_count": null,
   "id": "c9064609-0ebc-4a09-a3d7-93085d408cae",
   "metadata": {},
   "outputs": [],
   "source": [
    "# read the table\n",
    "df = pd.read_csv(file_name)\n",
    "# show the table\n",
    "df"
   ]
  },
  {
   "cell_type": "markdown",
   "id": "75219c1f-f171-4ec1-b635-4fdfc09d61d4",
   "metadata": {},
   "source": [
    "---\n",
    "<a name = \"manipulation\"></a>\n",
    "## 2. Automating data manipulation and plot creation\n",
    "\n",
    "- **Automatic** data manipulation does not compromise original data and keeps track of manipulations, making analyses reproducible\n",
    "- It is *discouraged* to do **manual** manipulation, as it compromises original data, is prone to errors, and does not keep track of changes, making analyses hardly reproducible\n",
    "\n"
   ]
  },
  {
   "cell_type": "code",
   "execution_count": null,
   "id": "2d955331-ce8e-4ee5-b8cb-e70aa149a481",
   "metadata": {},
   "outputs": [],
   "source": [
    "# calculate mean and standard error for each column\n",
    "means = df.mean()\n",
    "print (\"means:\", means)"
   ]
  },
  {
   "cell_type": "code",
   "execution_count": null,
   "id": "12b078f2-2a28-45a5-8e55-395210292b82",
   "metadata": {},
   "outputs": [],
   "source": [
    "# calculate the standard error for each column\n",
    "standard_errors = df.sem()\n",
    "print (\"standard_errors:\", standard_errors)"
   ]
  },
  {
   "cell_type": "code",
   "execution_count": null,
   "id": "dcebe7b8-81b3-405d-b4f6-3e40e7c514d3",
   "metadata": {},
   "outputs": [],
   "source": [
    "# transform the mean from a pandas series into a list\n",
    "means = means.to_list()\n",
    "print (\"means:\", means)"
   ]
  },
  {
   "cell_type": "code",
   "execution_count": null,
   "id": "bd462db1-0838-4d1c-9d35-af30f24731e9",
   "metadata": {},
   "outputs": [],
   "source": [
    "# ---> transform the standard error from a pandas series into a list\n"
   ]
  },
  {
   "cell_type": "code",
   "execution_count": null,
   "id": "f6981f5a-9263-4480-b312-f3348f904b06",
   "metadata": {},
   "outputs": [],
   "source": [
    "# separate mean for lateral and medial sides\n",
    "m_lateral = means[::2]\n",
    "m_medial  = means[1::2]\n",
    "\n",
    "print (\"m_lateral\", m_lateral)\n",
    "print (\"m_medial\", m_medial)"
   ]
  },
  {
   "cell_type": "code",
   "execution_count": null,
   "id": "66452101-607c-49be-8463-be91a80fc312",
   "metadata": {},
   "outputs": [],
   "source": [
    "# ---> separate standard error for lateral and medial sides\n"
   ]
  },
  {
   "cell_type": "code",
   "execution_count": null,
   "id": "828c76ce-f35c-4256-9aeb-ad5010127d25",
   "metadata": {},
   "outputs": [],
   "source": [
    "# create the plot\n",
    "\n",
    "# position of the bars on x\n",
    "x_axis = np.arange(len(m_lateral)) \n",
    "\n",
    "# plotting the bars for the lateral meniscus\n",
    "plt.bar(x_axis - 0.2,                # position on x\n",
    "        m_lateral,                   # y\n",
    "        0.35,                        # bin width\n",
    "        label = 'Lateral meniscus',  # label for legend\n",
    "        yerr=[[0,0,0,0],se_lateral], # error bar\n",
    "        capsize=4,                   # length of error bar tick\n",
    "        color='#3B65AE',             # bar color\n",
    "        edgecolor='black',           # color of bar edge \n",
    "        linewidth=1.8                # width of bar edge\n",
    "       ) \n",
    "\n",
    "# plotting the bars for the medial meniscus\n",
    "plt.bar(x_axis + 0.2, \n",
    "        m_medial, \n",
    "        0.35, \n",
    "        label = 'Medial meniscus',\n",
    "        yerr=[[0,0,0,0], se_medial],\n",
    "        capsize=4,\n",
    "        color='#BED7EF',\n",
    "        edgecolor='black',\n",
    "        linewidth=1.8\n",
    "       ) \n",
    "\n",
    "# adding other characteristics to the graph\n",
    "plt.xticks(x_axis, [\"Anterior zone\", \"Mid-Anterior\\nzone\", \"Mid-posterior\\nzone\", \"Posterior zone\"]) \n",
    "plt.ylabel(\"Vascular volume contribution\\n(%)\")\n",
    "plt.ylim([0,100])\n",
    "plt.legend(loc=\"upper center\")\n",
    "plt.show()"
   ]
  },
  {
   "cell_type": "markdown",
   "id": "62d189c8-da76-4d1a-8838-a8692c68d927",
   "metadata": {},
   "source": [
    "<a name=\"dependencies\"></a>\n",
    "## 3. Printing dependences\n",
    "\n",
    "- Dependences are fundamental to record the **computational environment**.   \n",
    "- We use [watermark](https://github.com/rasbt/watermark) to print: version of python, ipython, and packages, and characteristics of the computer\n",
    "  - *Note:* Watermark is not a Python package but a *Jupyter notebook extension*–this is why commands start with`%`"
   ]
  },
  {
   "cell_type": "code",
   "execution_count": null,
   "id": "e50137f8-f03c-41d2-99c1-9ba4fcc8c280",
   "metadata": {},
   "outputs": [],
   "source": [
    "%load_ext watermark\n",
    "\n",
    "# printing date, python version, ipython version, and machine characteristics\n",
    "%watermark \n",
    "\n",
    "# print Python packages' version\n",
    "%watermark --iversion "
   ]
  },
  {
   "cell_type": "markdown",
   "id": "5b72881f-358b-4072-888d-1c6d11362716",
   "metadata": {},
   "source": [
    "---\n",
    "## Last steps\n",
    "\n",
    "- When publishing a paper, this kind of notebook should be uploaded to a GitHub repository\n",
    "- The **link to notebook on GitHub** can be **added to the Figure caption** so that a reader can reproduce the graph\n",
    "- *Note*: It is highly possible that in a not too far away future, we will write **digital reproducible and interactive papers** (using [MyST](https://mystmd.org/)!), which are papers with interactive graphs included in the publications. This starts to happen for conferences (like [SciPy 2024](https://www.scipy2024.scipy.org/)) and will happen soon for journals in the Earth Sciences\n",
    "- To be continued..."
   ]
  },
  {
   "cell_type": "code",
   "execution_count": null,
   "id": "1d0154f4-c64e-4db4-880d-12cc63c2f374",
   "metadata": {},
   "outputs": [],
   "source": []
  }
 ],
 "metadata": {
  "kernelspec": {
   "display_name": "Python 3 (ipykernel)",
   "language": "python",
   "name": "python3"
  },
  "language_info": {
   "codemirror_mode": {
    "name": "ipython",
    "version": 3
   },
   "file_extension": ".py",
   "mimetype": "text/x-python",
   "name": "python",
   "nbconvert_exporter": "python",
   "pygments_lexer": "ipython3",
   "version": "3.9.6"
  }
 },
 "nbformat": 4,
 "nbformat_minor": 5
}
