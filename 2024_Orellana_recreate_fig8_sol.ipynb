{
 "cells": [
  {
   "cell_type": "markdown",
   "id": "19ae13d9-7bce-41fa-b8c9-bd99c997ac0e",
   "metadata": {},
   "source": [
    "## How to create a graph for publication in an open and reproducible way\n",
    "\n",
    "By [Serena Bonaretti](https://sbonaretti.github.io/)  \n",
    "Content under Creative Commons Attribution license CC-BY-NC-SA 4.0     \n",
    "Code under GNU-GPL v3 License \n",
    "\n",
    "---"
   ]
  },
  {
   "attachments": {},
   "cell_type": "markdown",
   "id": "604862bf-6401-4c55-91d6-ac96818ca2bc",
   "metadata": {},
   "source": [
    "- The task is to produce Fig. 8 from the paper:  \n",
    "  *Orellana et al. 2024. **Revealing the complexity of meniscus \n",
    "microvasculature through 3D visualization and analysis***\n",
    "https://doi.org/10.1038/s41598-024-61497-2\n",
    "\n",
    "- This notebook is also an example of how to create a **reproducible workflow** using Jupyter Notebook, Python, Zenodo, and GitHub.\n",
    "\n",
    "- These are the 3 steps that make this workflow reproducible:   \n",
    "  1. [Automatically downloading data from a repository](#download)  \n",
    "  2. [Automating data manipulation and plot creation](#manipulation)\n",
    "  3. [Printing dependences](#dependencies) "
   ]
  },
  {
   "cell_type": "markdown",
   "id": "6b5acdf2-afd8-454b-9f2a-a5527a81f308",
   "metadata": {},
   "source": [
    "--- \n",
    "Installing the Python packages that we will need:"
   ]
  },
  {
   "cell_type": "code",
   "execution_count": 1,
   "id": "81446adf-f64b-401b-a3c1-6735fea2b880",
   "metadata": {},
   "outputs": [
    {
     "name": "stdout",
     "output_type": "stream",
     "text": [
      "Defaulting to user installation because normal site-packages is not writeable\n",
      "Collecting wget\n",
      "  Using cached wget-3.2-py3-none-any.whl\n",
      "Installing collected packages: wget\n",
      "Successfully installed wget-3.2\n",
      "\u001b[33mWARNING: You are using pip version 21.2.4; however, version 24.0 is available.\n",
      "You should consider upgrading via the '/Library/Developer/CommandLineTools/usr/bin/python3 -m pip install --upgrade pip' command.\u001b[0m\n"
     ]
    }
   ],
   "source": [
    "!pip3 install wget"
   ]
  },
  {
   "cell_type": "code",
   "execution_count": 2,
   "id": "c8ad1f15-15f5-4137-b09a-2bab05d23266",
   "metadata": {
    "scrolled": true
   },
   "outputs": [
    {
     "name": "stdout",
     "output_type": "stream",
     "text": [
      "Defaulting to user installation because normal site-packages is not writeable\n",
      "Collecting watermark\n",
      "  Using cached watermark-2.4.3-py2.py3-none-any.whl (7.6 kB)\n",
      "Requirement already satisfied: setuptools in /Library/Developer/CommandLineTools/Library/Frameworks/Python3.framework/Versions/3.9/lib/python3.9/site-packages (from watermark) (58.0.4)\n",
      "Requirement already satisfied: importlib-metadata>=1.4 in /Users/serenabonaretti/Library/Python/3.9/lib/python/site-packages (from watermark) (7.1.0)\n",
      "Requirement already satisfied: ipython>=6.0 in /Users/serenabonaretti/Library/Python/3.9/lib/python/site-packages (from watermark) (8.18.1)\n",
      "Requirement already satisfied: zipp>=0.5 in /Users/serenabonaretti/Library/Python/3.9/lib/python/site-packages (from importlib-metadata>=1.4->watermark) (3.18.1)\n",
      "Requirement already satisfied: jedi>=0.16 in /Users/serenabonaretti/Library/Python/3.9/lib/python/site-packages (from ipython>=6.0->watermark) (0.19.1)\n",
      "Requirement already satisfied: pexpect>4.3 in /Users/serenabonaretti/Library/Python/3.9/lib/python/site-packages (from ipython>=6.0->watermark) (4.9.0)\n",
      "Requirement already satisfied: decorator in /Users/serenabonaretti/Library/Python/3.9/lib/python/site-packages (from ipython>=6.0->watermark) (5.1.1)\n",
      "Requirement already satisfied: prompt-toolkit<3.1.0,>=3.0.41 in /Users/serenabonaretti/Library/Python/3.9/lib/python/site-packages (from ipython>=6.0->watermark) (3.0.43)\n",
      "Requirement already satisfied: matplotlib-inline in /Users/serenabonaretti/Library/Python/3.9/lib/python/site-packages (from ipython>=6.0->watermark) (0.1.7)\n",
      "Requirement already satisfied: stack-data in /Users/serenabonaretti/Library/Python/3.9/lib/python/site-packages (from ipython>=6.0->watermark) (0.6.3)\n",
      "Requirement already satisfied: pygments>=2.4.0 in /Users/serenabonaretti/Library/Python/3.9/lib/python/site-packages (from ipython>=6.0->watermark) (2.17.2)\n",
      "Requirement already satisfied: typing-extensions in /Users/serenabonaretti/Library/Python/3.9/lib/python/site-packages (from ipython>=6.0->watermark) (4.11.0)\n",
      "Requirement already satisfied: exceptiongroup in /Users/serenabonaretti/Library/Python/3.9/lib/python/site-packages (from ipython>=6.0->watermark) (1.2.1)\n",
      "Requirement already satisfied: traitlets>=5 in /Users/serenabonaretti/Library/Python/3.9/lib/python/site-packages (from ipython>=6.0->watermark) (5.14.3)\n",
      "Requirement already satisfied: parso<0.9.0,>=0.8.3 in /Users/serenabonaretti/Library/Python/3.9/lib/python/site-packages (from jedi>=0.16->ipython>=6.0->watermark) (0.8.4)\n",
      "Requirement already satisfied: ptyprocess>=0.5 in /Users/serenabonaretti/Library/Python/3.9/lib/python/site-packages (from pexpect>4.3->ipython>=6.0->watermark) (0.7.0)\n",
      "Requirement already satisfied: wcwidth in /Users/serenabonaretti/Library/Python/3.9/lib/python/site-packages (from prompt-toolkit<3.1.0,>=3.0.41->ipython>=6.0->watermark) (0.2.13)\n",
      "Requirement already satisfied: asttokens>=2.1.0 in /Users/serenabonaretti/Library/Python/3.9/lib/python/site-packages (from stack-data->ipython>=6.0->watermark) (2.4.1)\n",
      "Requirement already satisfied: pure-eval in /Users/serenabonaretti/Library/Python/3.9/lib/python/site-packages (from stack-data->ipython>=6.0->watermark) (0.2.2)\n",
      "Requirement already satisfied: executing>=1.2.0 in /Users/serenabonaretti/Library/Python/3.9/lib/python/site-packages (from stack-data->ipython>=6.0->watermark) (2.0.1)\n",
      "Requirement already satisfied: six>=1.12.0 in /Library/Developer/CommandLineTools/Library/Frameworks/Python3.framework/Versions/3.9/lib/python3.9/site-packages (from asttokens>=2.1.0->stack-data->ipython>=6.0->watermark) (1.15.0)\n",
      "Installing collected packages: watermark\n",
      "Successfully installed watermark-2.4.3\n",
      "\u001b[33mWARNING: You are using pip version 21.2.4; however, version 24.0 is available.\n",
      "You should consider upgrading via the '/Library/Developer/CommandLineTools/usr/bin/python3 -m pip install --upgrade pip' command.\u001b[0m\n"
     ]
    }
   ],
   "source": [
    "!pip3 install watermark"
   ]
  },
  {
   "cell_type": "markdown",
   "id": "7e0865c4-acd7-4dbd-b340-95717850f5c9",
   "metadata": {},
   "source": [
    "--- \n",
    "- Importing the Python libraries that we will need below:"
   ]
  },
  {
   "cell_type": "code",
   "execution_count": 3,
   "id": "beaf0f31-e2f5-4b10-a5a1-0eaee8515511",
   "metadata": {},
   "outputs": [],
   "source": [
    "import wget                     # to download from zenodo\n",
    "import pandas as pd             # to manipulate the table\n",
    "import numpy as np              # for some math\n",
    "import matplotlib.pyplot as plt # to plot "
   ]
  },
  {
   "attachments": {},
   "cell_type": "markdown",
   "id": "99a4b622-7c18-414f-8a7b-27c9ff7ccd9b",
   "metadata": {},
   "source": [
    "---\n",
    "<a name = \"download\"></a>\n",
    "## 1. Automatically downloading data from a repository\n",
    "\n",
    "- Input data should be in a repository that provides a **persistent digital object identifier (DOI)** so that data will be available in the future\n",
    "- It is *discouraged* to share data from **personal repositories** because links tend to get deleted, thus compromising the reproducibility of the workflow"
   ]
  },
  {
   "cell_type": "markdown",
   "id": "75ce49d0-4344-496c-84f7-bceec9dd762d",
   "metadata": {},
   "source": [
    "- The data that we will use in this notebook is in the file `2024_Orellana_data_fig_8.csv` at this Zenodo link: www.doi.org/10.5281/zenodo.11491110"
   ]
  },
  {
   "cell_type": "code",
   "execution_count": 4,
   "id": "3bb5637e-8d4d-470e-bfb7-74b3aca8f91a",
   "metadata": {},
   "outputs": [
    {
     "name": "stdout",
     "output_type": "stream",
     "text": [
      "https://zenodo.org/record/11491110/files/\n"
     ]
    }
   ],
   "source": [
    "# ---> complete the zenodo url with the last digits of the specific version of the dataset DOI\n",
    "zenodo_url = \"https://zenodo.org/record/11491110/files/\"\n",
    "print (zenodo_url)"
   ]
  },
  {
   "cell_type": "code",
   "execution_count": 5,
   "id": "b9a97d41-f44d-4d0a-8ab7-3fbd47df8a22",
   "metadata": {},
   "outputs": [
    {
     "name": "stdout",
     "output_type": "stream",
     "text": [
      "2024_Orellana_data_fig_8.csv\n"
     ]
    }
   ],
   "source": [
    "# ---> enter the file name\n",
    "file_name  = \"2024_Orellana_data_fig_8.csv\" \n",
    "print (file_name)"
   ]
  },
  {
   "cell_type": "code",
   "execution_count": 6,
   "id": "18d075d0-3f8a-4b0d-91a9-f7293535c437",
   "metadata": {},
   "outputs": [
    {
     "name": "stdout",
     "output_type": "stream",
     "text": [
      "100% [..............................................................] 337 / 337"
     ]
    },
    {
     "data": {
      "text/plain": [
       "'2024_Orellana_data_fig_8 (1).csv'"
      ]
     },
     "execution_count": 6,
     "metadata": {},
     "output_type": "execute_result"
    }
   ],
   "source": [
    "# download using wget.download(repository, local)\n",
    "wget.download(zenodo_url + file_name, file_name) # \"./\" means \"in this folder\""
   ]
  },
  {
   "cell_type": "code",
   "execution_count": 7,
   "id": "c9064609-0ebc-4a09-a3d7-93085d408cae",
   "metadata": {},
   "outputs": [
    {
     "data": {
      "text/html": [
       "<div>\n",
       "<style scoped>\n",
       "    .dataframe tbody tr th:only-of-type {\n",
       "        vertical-align: middle;\n",
       "    }\n",
       "\n",
       "    .dataframe tbody tr th {\n",
       "        vertical-align: top;\n",
       "    }\n",
       "\n",
       "    .dataframe thead th {\n",
       "        text-align: right;\n",
       "    }\n",
       "</style>\n",
       "<table border=\"1\" class=\"dataframe\">\n",
       "  <thead>\n",
       "    <tr style=\"text-align: right;\">\n",
       "      <th></th>\n",
       "      <th>ant_lat</th>\n",
       "      <th>ant_med</th>\n",
       "      <th>mid_ant_lat</th>\n",
       "      <th>mid_ant_med</th>\n",
       "      <th>mid_pos_lat</th>\n",
       "      <th>mid_pos_med</th>\n",
       "      <th>pos_lat</th>\n",
       "      <th>pos_med</th>\n",
       "    </tr>\n",
       "  </thead>\n",
       "  <tbody>\n",
       "    <tr>\n",
       "      <th>0</th>\n",
       "      <td>86.31</td>\n",
       "      <td>64.95</td>\n",
       "      <td>123.87</td>\n",
       "      <td>70.54</td>\n",
       "      <td>44.36</td>\n",
       "      <td>39.56</td>\n",
       "      <td>246.71</td>\n",
       "      <td>40.59</td>\n",
       "    </tr>\n",
       "    <tr>\n",
       "      <th>1</th>\n",
       "      <td>52.15</td>\n",
       "      <td>45.97</td>\n",
       "      <td>76.43</td>\n",
       "      <td>47.77</td>\n",
       "      <td>29.18</td>\n",
       "      <td>26.28</td>\n",
       "      <td>142.36</td>\n",
       "      <td>36.79</td>\n",
       "    </tr>\n",
       "    <tr>\n",
       "      <th>2</th>\n",
       "      <td>18.00</td>\n",
       "      <td>27.00</td>\n",
       "      <td>29.00</td>\n",
       "      <td>25.00</td>\n",
       "      <td>14.00</td>\n",
       "      <td>13.00</td>\n",
       "      <td>38.00</td>\n",
       "      <td>33.00</td>\n",
       "    </tr>\n",
       "    <tr>\n",
       "      <th>3</th>\n",
       "      <td>18.00</td>\n",
       "      <td>27.00</td>\n",
       "      <td>29.00</td>\n",
       "      <td>25.00</td>\n",
       "      <td>14.00</td>\n",
       "      <td>13.00</td>\n",
       "      <td>38.00</td>\n",
       "      <td>33.00</td>\n",
       "    </tr>\n",
       "    <tr>\n",
       "      <th>4</th>\n",
       "      <td>-16.15</td>\n",
       "      <td>8.03</td>\n",
       "      <td>-18.43</td>\n",
       "      <td>2.23</td>\n",
       "      <td>-1.18</td>\n",
       "      <td>-0.28</td>\n",
       "      <td>-66.36</td>\n",
       "      <td>29.21</td>\n",
       "    </tr>\n",
       "    <tr>\n",
       "      <th>5</th>\n",
       "      <td>-50.31</td>\n",
       "      <td>-10.95</td>\n",
       "      <td>-65.87</td>\n",
       "      <td>-20.54</td>\n",
       "      <td>-16.36</td>\n",
       "      <td>-13.56</td>\n",
       "      <td>-170.71</td>\n",
       "      <td>25.41</td>\n",
       "    </tr>\n",
       "  </tbody>\n",
       "</table>\n",
       "</div>"
      ],
      "text/plain": [
       "   ant_lat  ant_med  mid_ant_lat  mid_ant_med  mid_pos_lat  mid_pos_med  \\\n",
       "0    86.31    64.95       123.87        70.54        44.36        39.56   \n",
       "1    52.15    45.97        76.43        47.77        29.18        26.28   \n",
       "2    18.00    27.00        29.00        25.00        14.00        13.00   \n",
       "3    18.00    27.00        29.00        25.00        14.00        13.00   \n",
       "4   -16.15     8.03       -18.43         2.23        -1.18        -0.28   \n",
       "5   -50.31   -10.95       -65.87       -20.54       -16.36       -13.56   \n",
       "\n",
       "   pos_lat  pos_med  \n",
       "0   246.71    40.59  \n",
       "1   142.36    36.79  \n",
       "2    38.00    33.00  \n",
       "3    38.00    33.00  \n",
       "4   -66.36    29.21  \n",
       "5  -170.71    25.41  "
      ]
     },
     "execution_count": 7,
     "metadata": {},
     "output_type": "execute_result"
    }
   ],
   "source": [
    "# read the table\n",
    "df = pd.read_csv(file_name)\n",
    "# show the table\n",
    "df"
   ]
  },
  {
   "cell_type": "markdown",
   "id": "75219c1f-f171-4ec1-b635-4fdfc09d61d4",
   "metadata": {},
   "source": [
    "---\n",
    "<a name = \"manipulation\"></a>\n",
    "## 2. Automating data manipulation and plot creation\n",
    "\n",
    "- **Automatic** data manipulation does not compromise original data and keeps track of manipulations, making analyses reproducible\n",
    "- It is *discouraged* to do **manual** manipulation, as it compromises original data, is prone to errors, and does not keep track of changes, making analyses hardly reproducible\n",
    "\n"
   ]
  },
  {
   "cell_type": "code",
   "execution_count": 8,
   "id": "2d955331-ce8e-4ee5-b8cb-e70aa149a481",
   "metadata": {},
   "outputs": [
    {
     "name": "stdout",
     "output_type": "stream",
     "text": [
      "means: ant_lat        18.0\n",
      "ant_med        27.0\n",
      "mid_ant_lat    29.0\n",
      "mid_ant_med    25.0\n",
      "mid_pos_lat    14.0\n",
      "mid_pos_med    13.0\n",
      "pos_lat        38.0\n",
      "pos_med        33.0\n",
      "dtype: float64\n"
     ]
    }
   ],
   "source": [
    "# calculate mean and standard error for each column\n",
    "means = df.mean()\n",
    "print (\"means:\", means)"
   ]
  },
  {
   "cell_type": "code",
   "execution_count": 9,
   "id": "12b078f2-2a28-45a5-8e55-395210292b82",
   "metadata": {},
   "outputs": [
    {
     "name": "stdout",
     "output_type": "stream",
     "text": [
      "standard_errors: ant_lat        19.718821\n",
      "ant_med        10.954644\n",
      "mid_ant_lat    27.386033\n",
      "mid_ant_med    13.146266\n",
      "mid_pos_lat     8.764177\n",
      "mid_pos_med     7.667212\n",
      "pos_lat        60.249965\n",
      "pos_med         2.190467\n",
      "dtype: float64\n"
     ]
    }
   ],
   "source": [
    "# calculate the standard error for each column\n",
    "standard_errors = df.sem()\n",
    "print (\"standard_errors:\", standard_errors)"
   ]
  },
  {
   "cell_type": "code",
   "execution_count": 10,
   "id": "dcebe7b8-81b3-405d-b4f6-3e40e7c514d3",
   "metadata": {},
   "outputs": [
    {
     "name": "stdout",
     "output_type": "stream",
     "text": [
      "means: [18.0, 27.000000000000004, 29.0, 25.0, 13.999999999999998, 13.0, 38.00000000000001, 33.0]\n"
     ]
    }
   ],
   "source": [
    "# transform the mean from a pandas series into a list\n",
    "means = means.to_list()\n",
    "print (\"means:\", means)"
   ]
  },
  {
   "cell_type": "code",
   "execution_count": 11,
   "id": "bd462db1-0838-4d1c-9d35-af30f24731e9",
   "metadata": {},
   "outputs": [
    {
     "name": "stdout",
     "output_type": "stream",
     "text": [
      "standard_errors: [19.718821127711127, 10.954644068460953, 27.386032693084022, 13.146265629447779, 8.76417708629852, 7.66721157483823, 60.2499647026176, 2.1904672256545332]\n"
     ]
    }
   ],
   "source": [
    "# ---> transform the standard error from a pandas series into a list\n",
    "standard_errors = standard_errors.to_list()\n",
    "print (\"standard_errors:\", standard_errors)"
   ]
  },
  {
   "cell_type": "code",
   "execution_count": 12,
   "id": "f6981f5a-9263-4480-b312-f3348f904b06",
   "metadata": {},
   "outputs": [
    {
     "name": "stdout",
     "output_type": "stream",
     "text": [
      "m_lateral [18.0, 29.0, 13.999999999999998, 38.00000000000001]\n",
      "m_medial [27.000000000000004, 25.0, 13.0, 33.0]\n"
     ]
    }
   ],
   "source": [
    "# separate mean for lateral and medial sides\n",
    "m_lateral = means[::2]\n",
    "m_medial  = means[1::2]\n",
    "\n",
    "print (\"m_lateral\", m_lateral)\n",
    "print (\"m_medial\", m_medial)"
   ]
  },
  {
   "cell_type": "code",
   "execution_count": 13,
   "id": "66452101-607c-49be-8463-be91a80fc312",
   "metadata": {},
   "outputs": [
    {
     "name": "stdout",
     "output_type": "stream",
     "text": [
      "se_lateral [19.718821127711127, 27.386032693084022, 8.76417708629852, 60.2499647026176]\n",
      "se_medial [10.954644068460953, 13.146265629447779, 7.66721157483823, 2.1904672256545332]\n"
     ]
    }
   ],
   "source": [
    "# ---> separate standard error for lateral and medial sides\n",
    "se_lateral = standard_errors[::2]\n",
    "se_medial  = standard_errors[1::2]\n",
    "\n",
    "print (\"se_lateral\", se_lateral)\n",
    "print (\"se_medial\", se_medial)"
   ]
  },
  {
   "cell_type": "code",
   "execution_count": 14,
   "id": "828c76ce-f35c-4256-9aeb-ad5010127d25",
   "metadata": {},
   "outputs": [
    {
     "data": {
      "image/png": "[encoded data removed]",
      "text/plain": [
       "<Figure size 640x480 with 1 Axes>"
      ]
     },
     "metadata": {},
     "output_type": "display_data"
    }
   ],
   "source": [
    "# create the plot\n",
    "\n",
    "# position of the bars on x\n",
    "x_axis = np.arange(len(m_lateral)) \n",
    "\n",
    "# plotting the bars for the lateral meniscus\n",
    "plt.bar(x_axis - 0.2,                # position on x\n",
    "        m_lateral,                   # y\n",
    "        0.35,                        # bin width\n",
    "        label = 'Lateral meniscus',  # label for legend\n",
    "        yerr=[[0,0,0,0],se_lateral], # error bar\n",
    "        capsize=4,                   # length of error bar tick\n",
    "        color='#3B65AE',             # bar color\n",
    "        edgecolor='black',           # color of bar edge \n",
    "        linewidth=1.8                # width of bar edge\n",
    "       ) \n",
    "\n",
    "# plotting the bars for the medial meniscus\n",
    "plt.bar(x_axis + 0.2, \n",
    "        m_medial, \n",
    "        0.35, \n",
    "        label = 'Medial meniscus',\n",
    "        yerr=[[0,0,0,0], se_medial],\n",
    "        capsize=4,\n",
    "        color='#BED7EF',\n",
    "        edgecolor='black',\n",
    "        linewidth=1.8\n",
    "       ) \n",
    "\n",
    "# adding other characteristics to the graph\n",
    "plt.xticks(x_axis, [\"Anterior zone\", \"Mid-Anterior\\nzone\", \"Mid-posterior\\nzone\", \"Posterior zone\"]) \n",
    "plt.ylabel(\"Vascular volume contribution\\n(%)\")\n",
    "plt.ylim([0,100])\n",
    "plt.legend(loc=\"upper center\")\n",
    "plt.show()"
   ]
  },
  {
   "cell_type": "markdown",
   "id": "62d189c8-da76-4d1a-8838-a8692c68d927",
   "metadata": {},
   "source": [
    "<a name=\"dependencies\"></a>\n",
    "## 3. Printing dependences\n",
    "\n",
    "- Dependences are fundamental to record the **computational environment**.   \n",
    "- We use [watermark](https://github.com/rasbt/watermark) to print: version of python, ipython, and packages, and characteristics of the computer\n",
    "  - *Note:* Watermark is not a Python package but a *Jupyter notebook extension*–this is why commands start with`%`"
   ]
  },
  {
   "cell_type": "code",
   "execution_count": 15,
   "id": "e50137f8-f03c-41d2-99c1-9ba4fcc8c280",
   "metadata": {},
   "outputs": [
    {
     "name": "stdout",
     "output_type": "stream",
     "text": [
      "Last updated: 2024-06-06T11:43:57.969599+02:00\n",
      "\n",
      "Python implementation: CPython\n",
      "Python version       : 3.9.6\n",
      "IPython version      : 8.18.1\n",
      "\n",
      "Compiler    : Clang 15.0.0 (clang-1500.3.9.4)\n",
      "OS          : Darwin\n",
      "Release     : 23.2.0\n",
      "Machine     : arm64\n",
      "Processor   : arm\n",
      "CPU cores   : 8\n",
      "Architecture: 64bit\n",
      "\n",
      "numpy     : 1.26.4\n",
      "matplotlib: 3.8.4\n",
      "wget      : 3.2\n",
      "pandas    : 2.2.2\n",
      "\n"
     ]
    }
   ],
   "source": [
    "%load_ext watermark\n",
    "\n",
    "# printing date, python version, ipython version, and machine characteristics\n",
    "%watermark \n",
    "\n",
    "# print Python packages' version\n",
    "%watermark --iversion "
   ]
  },
  {
   "cell_type": "markdown",
   "id": "5b72881f-358b-4072-888d-1c6d11362716",
   "metadata": {},
   "source": [
    "---\n",
    "## Last steps\n",
    "\n",
    "- When publishing a paper, this kind of notebook should be uploaded to a GitHub repository\n",
    "- The **link to notebook on GitHub** can be **added to the Figure caption** so that a reader can reproduce the graph\n",
    "- *Note*: It is highly possible that in a not too far away future, we will write **digital reproducible and interactive papers** (using [MyST](https://mystmd.org/)!), which are papers with interactive graphs included in the publications. This starts to happen for conferences (like [SciPy 2024](https://www.scipy2024.scipy.org/)) and will happen soon for journals in the Earth Sciences\n",
    "- To be continued..."
   ]
  },
  {
   "cell_type": "code",
   "execution_count": null,
   "id": "36eeb875-7f77-42d9-b9bd-d5645306da49",
   "metadata": {},
   "outputs": [],
   "source": []
  }
 ],
 "metadata": {
  "kernelspec": {
   "display_name": "Python 3 (ipykernel)",
   "language": "python",
   "name": "python3"
  },
  "language_info": {
   "codemirror_mode": {
    "name": "ipython",
    "version": 3
   },
   "file_extension": ".py",
   "mimetype": "text/x-python",
   "name": "python",
   "nbconvert_exporter": "python",
   "pygments_lexer": "ipython3",
   "version": "3.9.6"
  }
 },
 "nbformat": 4,
 "nbformat_minor": 5
}
